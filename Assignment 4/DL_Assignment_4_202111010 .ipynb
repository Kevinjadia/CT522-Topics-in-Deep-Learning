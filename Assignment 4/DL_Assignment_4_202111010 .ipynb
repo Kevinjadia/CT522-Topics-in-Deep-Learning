{
  "nbformat": 4,
  "nbformat_minor": 0,
  "metadata": {
    "colab": {
      "name": "DL_Assignment_4_202111010.ipynb",
      "provenance": [],
      "collapsed_sections": []
    },
    "kernelspec": {
      "name": "python3",
      "display_name": "Python 3"
    },
    "language_info": {
      "name": "python"
    }
  },
  "cells": [
    {
      "cell_type": "code",
      "source": [
        "from google.colab import drive\n",
        "drive.mount('/content/drive')"
      ],
      "metadata": {
        "colab": {
          "base_uri": "https://localhost:8080/"
        },
        "id": "lIczQnAo0bR8",
        "outputId": "d6f78922-e9ba-41b0-b077-1fc0cf518456"
      },
      "execution_count": null,
      "outputs": [
        {
          "output_type": "stream",
          "name": "stdout",
          "text": [
            "Mounted at /content/drive\n"
          ]
        }
      ]
    },
    {
      "cell_type": "code",
      "source": [
        "!mkdir Data\n",
        "!cp \"/content/drive/MyDrive/DL_LAB/ASG4/Churn_Modelling.csv\" \"./Data\""
      ],
      "metadata": {
        "id": "Kb2Tvxp02w0a",
        "colab": {
          "base_uri": "https://localhost:8080/"
        },
        "outputId": "f1b55ff2-e723-41a6-ca31-bfa84d9bdf3b"
      },
      "execution_count": null,
      "outputs": [
        {
          "output_type": "stream",
          "name": "stdout",
          "text": [
            "mkdir: cannot create directory ‘Data’: File exists\n"
          ]
        }
      ]
    },
    {
      "cell_type": "markdown",
      "source": [
        "Importing necessary libraries"
      ],
      "metadata": {
        "id": "XtMjWfPW0U0g"
      }
    },
    {
      "cell_type": "code",
      "execution_count": null,
      "metadata": {
        "id": "cy9ezC_V0JRy"
      },
      "outputs": [],
      "source": [
        "from keras.datasets import cifar10\n",
        "from keras.models import Sequential\n",
        "from keras.layers import Dense, Dropout, Conv2D, MaxPool2D\n",
        "from keras.utils import np_utils\n",
        "import matplotlib.pyplot as plt\n",
        "import math\n",
        "import tensorflow as tf\n",
        "import matplotlib.pyplot as plt\n",
        "from tensorflow.keras import Model\n",
        "from tensorflow.keras import Sequential\n",
        "from tensorflow.keras.optimizers import SGD\n",
        "from sklearn.preprocessing import StandardScaler\n",
        "from sklearn.model_selection import train_test_split\n",
        "from tensorflow.keras.losses import MeanSquaredLogarithmicError\n",
        "from tensorflow.keras.losses import MeanSquaredError\n",
        "from sklearn.metrics import mean_squared_error\n",
        "from sklearn.preprocessing import OneHotEncoder\n",
        "import pandas as pd\n",
        "import numpy as np\n",
        "from sklearn.preprocessing import LabelEncoder\n"
      ]
    },
    {
      "cell_type": "markdown",
      "source": [
        "##**Implement ANN model on CIFAR10 dataset.**"
      ],
      "metadata": {
        "id": "TFZYBx7lObMB"
      }
    },
    {
      "cell_type": "markdown",
      "source": [
        "CIFAR10 dataset is commonly used in Deep Learning for testing models of Image Classification. It has 60,000 color images comprising of 10 different classes. The image size is 32x32 and the dataset has 50,000 training images and 10,000 test images"
      ],
      "metadata": {
        "id": "LTkeoMYx5Ck8"
      }
    },
    {
      "cell_type": "code",
      "source": [
        "#loading data set and splitting into trainset testset\n",
        "(X_train, y_train), (X_test, y_test) = cifar10.load_data()\n",
        "\n",
        "print(\"X_train shape\", X_train.shape)\n",
        "print(\"y_train shape\", y_train.shape)\n",
        "print(\"X_test shape\", X_test.shape)\n",
        "print(\"y_test shape\", y_test.shape)\n",
        "\n",
        "plt.imshow(X_train[1], cmap=plt.get_cmap('gray'))"
      ],
      "metadata": {
        "colab": {
          "base_uri": "https://localhost:8080/",
          "height": 353
        },
        "id": "FTlUr7w8OkAj",
        "outputId": "12a838ee-1a06-4677-d31d-4959f24f0599"
      },
      "execution_count": null,
      "outputs": [
        {
          "output_type": "stream",
          "name": "stdout",
          "text": [
            "X_train shape (50000, 32, 32, 3)\n",
            "y_train shape (50000, 1)\n",
            "X_test shape (10000, 32, 32, 3)\n",
            "y_test shape (10000, 1)\n"
          ]
        },
        {
          "output_type": "execute_result",
          "data": {
            "text/plain": [
              "<matplotlib.image.AxesImage at 0x7f0927284290>"
            ]
          },
          "metadata": {},
          "execution_count": 75
        },
        {
          "output_type": "display_data",
          "data": {
            "text/plain": [
              "<Figure size 432x288 with 1 Axes>"
            ],
            "image/png": "[encoded data removed]"
          },
          "metadata": {
            "needs_background": "light"
          }
        }
      ]
    },
    {
      "cell_type": "markdown",
      "source": [
        "The class_names list is made based on labels and their standard associated index values in original dataset."
      ],
      "metadata": {
        "id": "_3mDpLJgVZ3w"
      }
    },
    {
      "cell_type": "code",
      "source": [
        "class_names=['airplane','automobile','bird','cat','deer','dog','frog','horse','ship','truck']"
      ],
      "metadata": {
        "id": "xhbxqjvnTESt"
      },
      "execution_count": null,
      "outputs": []
    },
    {
      "cell_type": "markdown",
      "source": [
        "Flattening the images from the 28x28 pixels to 1D 787 pixels"
      ],
      "metadata": {
        "id": "3g27Y-qyPuVG"
      }
    },
    {
      "cell_type": "code",
      "source": [
        "X_train = X_train.reshape(50000, 32*32*3)\n",
        "X_test = X_test.reshape(10000, 32*32*3)\n",
        "X_train = X_train.astype('float32')\n",
        "X_test = X_test.astype('float32')"
      ],
      "metadata": {
        "id": "sTqY9NCtPVal"
      },
      "execution_count": null,
      "outputs": []
    },
    {
      "cell_type": "code",
      "source": [
        "# Normalizing the data in range [0,1]\n",
        "X_train /= 255.0\n",
        "X_test /= 255.0"
      ],
      "metadata": {
        "id": "WUIDwVmCPVXB"
      },
      "execution_count": null,
      "outputs": []
    },
    {
      "cell_type": "code",
      "source": [
        "#converting target values into one hot encoding \n",
        "n_classes = 10\n",
        "print(\"Shape before one-hot encoding: \", y_train.shape)\n",
        "Y_train = np_utils.to_categorical(y_train, n_classes)\n",
        "Y_test = np_utils.to_categorical(y_test, n_classes)\n",
        "print(\"Shape after one-hot encoding: \", Y_train.shape)"
      ],
      "metadata": {
        "colab": {
          "base_uri": "https://localhost:8080/"
        },
        "id": "5UhIZ62gPVUQ",
        "outputId": "06c1f5de-00fc-49e3-a9cf-33d61e866dbb"
      },
      "execution_count": null,
      "outputs": [
        {
          "output_type": "stream",
          "name": "stdout",
          "text": [
            "Shape before one-hot encoding:  (50000, 1)\n",
            "Shape after one-hot encoding:  (50000, 10)\n"
          ]
        }
      ]
    },
    {
      "cell_type": "code",
      "source": [
        "#Defining model\n",
        "model = Sequential()\n",
        "#hidden layer\n",
        "model.add(Dense(100, input_shape=(32*32*3,), activation='relu'))\n",
        "#output layer\n",
        "model.add(Dense(10, activation='softmax'))\n",
        "model.summary()"
      ],
      "metadata": {
        "colab": {
          "base_uri": "https://localhost:8080/"
        },
        "id": "LqXqoSPmPVSQ",
        "outputId": "316e8548-6b14-43ad-f61a-1789809895e9"
      },
      "execution_count": null,
      "outputs": [
        {
          "output_type": "stream",
          "name": "stdout",
          "text": [
            "Model: \"sequential_7\"\n",
            "_________________________________________________________________\n",
            " Layer (type)                Output Shape              Param #   \n",
            "=================================================================\n",
            " dense_18 (Dense)            (None, 100)               307300    \n",
            "                                                                 \n",
            " dense_19 (Dense)            (None, 10)                1010      \n",
            "                                                                 \n",
            "=================================================================\n",
            "Total params: 308,310\n",
            "Trainable params: 308,310\n",
            "Non-trainable params: 0\n",
            "_________________________________________________________________\n"
          ]
        }
      ]
    },
    {
      "cell_type": "code",
      "source": [
        "model.compile(loss='categorical_crossentropy', metrics=['accuracy'], optimizer=SGD(learning_rate = 0.001))\n",
        "history = model.fit(X_train, Y_train, batch_size=128, epochs=30, validation_data=(X_test, Y_test))"
      ],
      "metadata": {
        "colab": {
          "base_uri": "https://localhost:8080/"
        },
        "id": "wI3ZNU89PVQE",
        "outputId": "a1204461-0ebe-4435-eadb-a90ccbd28a5b"
      },
      "execution_count": null,
      "outputs": [
        {
          "output_type": "stream",
          "name": "stdout",
          "text": [
            "Epoch 1/30\n",
            "391/391 [==============================] - 3s 7ms/step - loss: 1.8719 - accuracy: 0.3495 - val_loss: 1.8705 - val_accuracy: 0.3451\n",
            "Epoch 2/30\n",
            "391/391 [==============================] - 3s 7ms/step - loss: 1.8582 - accuracy: 0.3539 - val_loss: 1.8580 - val_accuracy: 0.3547\n",
            "Epoch 3/30\n",
            "391/391 [==============================] - 3s 6ms/step - loss: 1.8464 - accuracy: 0.3604 - val_loss: 1.8467 - val_accuracy: 0.3579\n",
            "Epoch 4/30\n",
            "391/391 [==============================] - 3s 6ms/step - loss: 1.8358 - accuracy: 0.3647 - val_loss: 1.8370 - val_accuracy: 0.3590\n",
            "Epoch 5/30\n",
            "391/391 [==============================] - 2s 6ms/step - loss: 1.8263 - accuracy: 0.3669 - val_loss: 1.8276 - val_accuracy: 0.3651\n",
            "Epoch 6/30\n",
            "391/391 [==============================] - 2s 6ms/step - loss: 1.8176 - accuracy: 0.3701 - val_loss: 1.8201 - val_accuracy: 0.3663\n",
            "Epoch 7/30\n",
            "391/391 [==============================] - 3s 6ms/step - loss: 1.8096 - accuracy: 0.3751 - val_loss: 1.8124 - val_accuracy: 0.3718\n",
            "Epoch 8/30\n",
            "391/391 [==============================] - 3s 7ms/step - loss: 1.8021 - accuracy: 0.3758 - val_loss: 1.8069 - val_accuracy: 0.3702\n",
            "Epoch 9/30\n",
            "391/391 [==============================] - 3s 6ms/step - loss: 1.7951 - accuracy: 0.3791 - val_loss: 1.8027 - val_accuracy: 0.3748\n",
            "Epoch 10/30\n",
            "391/391 [==============================] - 3s 6ms/step - loss: 1.7889 - accuracy: 0.3808 - val_loss: 1.7922 - val_accuracy: 0.3787\n",
            "Epoch 11/30\n",
            "391/391 [==============================] - 3s 7ms/step - loss: 1.7826 - accuracy: 0.3837 - val_loss: 1.7873 - val_accuracy: 0.3805\n",
            "Epoch 12/30\n",
            "391/391 [==============================] - 5s 12ms/step - loss: 1.7770 - accuracy: 0.3858 - val_loss: 1.7812 - val_accuracy: 0.3788\n",
            "Epoch 13/30\n",
            "391/391 [==============================] - 3s 6ms/step - loss: 1.7715 - accuracy: 0.3861 - val_loss: 1.7774 - val_accuracy: 0.3870\n",
            "Epoch 14/30\n",
            "391/391 [==============================] - 2s 6ms/step - loss: 1.7661 - accuracy: 0.3898 - val_loss: 1.7729 - val_accuracy: 0.3830\n",
            "Epoch 15/30\n",
            "391/391 [==============================] - 3s 7ms/step - loss: 1.7609 - accuracy: 0.3909 - val_loss: 1.7668 - val_accuracy: 0.3888\n",
            "Epoch 16/30\n",
            "391/391 [==============================] - 3s 7ms/step - loss: 1.7559 - accuracy: 0.3927 - val_loss: 1.7636 - val_accuracy: 0.3852\n",
            "Epoch 17/30\n",
            "391/391 [==============================] - 3s 6ms/step - loss: 1.7513 - accuracy: 0.3943 - val_loss: 1.7569 - val_accuracy: 0.3889\n",
            "Epoch 18/30\n",
            "391/391 [==============================] - 2s 6ms/step - loss: 1.7465 - accuracy: 0.3972 - val_loss: 1.7535 - val_accuracy: 0.3910\n",
            "Epoch 19/30\n",
            "391/391 [==============================] - 3s 6ms/step - loss: 1.7422 - accuracy: 0.3974 - val_loss: 1.7485 - val_accuracy: 0.3927\n",
            "Epoch 20/30\n",
            "391/391 [==============================] - 3s 6ms/step - loss: 1.7378 - accuracy: 0.3984 - val_loss: 1.7440 - val_accuracy: 0.3951\n",
            "Epoch 21/30\n",
            "391/391 [==============================] - 3s 6ms/step - loss: 1.7337 - accuracy: 0.3999 - val_loss: 1.7403 - val_accuracy: 0.3954\n",
            "Epoch 22/30\n",
            "391/391 [==============================] - 3s 6ms/step - loss: 1.7292 - accuracy: 0.4022 - val_loss: 1.7371 - val_accuracy: 0.3992\n",
            "Epoch 23/30\n",
            "391/391 [==============================] - 2s 6ms/step - loss: 1.7255 - accuracy: 0.4031 - val_loss: 1.7359 - val_accuracy: 0.3961\n",
            "Epoch 24/30\n",
            "391/391 [==============================] - 2s 6ms/step - loss: 1.7218 - accuracy: 0.4052 - val_loss: 1.7299 - val_accuracy: 0.4016\n",
            "Epoch 25/30\n",
            "391/391 [==============================] - 3s 6ms/step - loss: 1.7179 - accuracy: 0.4068 - val_loss: 1.7269 - val_accuracy: 0.4026\n",
            "Epoch 26/30\n",
            "391/391 [==============================] - 2s 6ms/step - loss: 1.7142 - accuracy: 0.4073 - val_loss: 1.7236 - val_accuracy: 0.3990\n",
            "Epoch 27/30\n",
            "391/391 [==============================] - 3s 6ms/step - loss: 1.7109 - accuracy: 0.4089 - val_loss: 1.7196 - val_accuracy: 0.4018\n",
            "Epoch 28/30\n",
            "391/391 [==============================] - 2s 6ms/step - loss: 1.7075 - accuracy: 0.4105 - val_loss: 1.7164 - val_accuracy: 0.4049\n",
            "Epoch 29/30\n",
            "391/391 [==============================] - 3s 7ms/step - loss: 1.7037 - accuracy: 0.4122 - val_loss: 1.7151 - val_accuracy: 0.4037\n",
            "Epoch 30/30\n",
            "391/391 [==============================] - 3s 8ms/step - loss: 1.7005 - accuracy: 0.4131 - val_loss: 1.7106 - val_accuracy: 0.4055\n"
          ]
        }
      ]
    },
    {
      "cell_type": "markdown",
      "source": [
        "We can see here that due to more no of model parameters(weights) it is consuming more time and we need to pass less no of epochs in argument. SO ANN for image classification is not efficient way.\n"
      ],
      "metadata": {
        "id": "oyF4LmVOR2fw"
      }
    },
    {
      "cell_type": "code",
      "source": [
        "def plot_history(history, key):\n",
        "  plt.plot(history.history[key])\n",
        "  plt.plot(history.history['val_'+key])\n",
        "  plt.xlabel(\"Epochs\")\n",
        "  plt.ylabel(key)\n",
        "  plt.legend([key, 'val_'+key])\n",
        "  plt.show()\n",
        "# Plot the history\n",
        "plot_history(history, 'accuracy')"
      ],
      "metadata": {
        "colab": {
          "base_uri": "https://localhost:8080/",
          "height": 279
        },
        "id": "noE8VBPpPVOA",
        "outputId": "8e49b39a-8249-4bfd-9ed8-252ae2665ba6"
      },
      "execution_count": null,
      "outputs": [
        {
          "output_type": "display_data",
          "data": {
            "text/plain": [
              "<Figure size 432x288 with 1 Axes>"
            ],
            "image/png": "[encoded data removed]"
          },
          "metadata": {
            "needs_background": "light"
          }
        }
      ]
    },
    {
      "cell_type": "code",
      "source": [
        "# checking accuracy and loss on test data\n",
        "loss,acc = model.evaluate(X_test,Y_test)"
      ],
      "metadata": {
        "colab": {
          "base_uri": "https://localhost:8080/"
        },
        "id": "3ocE_KHCSN8h",
        "outputId": "a001ffc7-b780-4877-ac43-58e92c5b4f79"
      },
      "execution_count": null,
      "outputs": [
        {
          "output_type": "stream",
          "name": "stdout",
          "text": [
            "313/313 [==============================] - 1s 2ms/step - loss: 1.6967 - accuracy: 0.4138\n"
          ]
        }
      ]
    },
    {
      "cell_type": "code",
      "source": [
        "\n",
        "X_test = X_test.reshape(10000, 32,32,3)\n",
        "plt.imshow(X_test[9], cmap=plt.get_cmap('gray'))"
      ],
      "metadata": {
        "colab": {
          "base_uri": "https://localhost:8080/",
          "height": 283
        },
        "id": "HNr1zBHQSN5R",
        "outputId": "efe5a2ee-09ef-4c9e-fda0-efbb157cda07"
      },
      "execution_count": null,
      "outputs": [
        {
          "output_type": "execute_result",
          "data": {
            "text/plain": [
              "<matplotlib.image.AxesImage at 0x7f09262a2990>"
            ]
          },
          "metadata": {},
          "execution_count": 70
        },
        {
          "output_type": "display_data",
          "data": {
            "text/plain": [
              "<Figure size 432x288 with 1 Axes>"
            ],
            "image/png": "[encoded data removed]"
          },
          "metadata": {
            "needs_background": "light"
          }
        }
      ]
    },
    {
      "cell_type": "code",
      "source": [
        "print(\"Above classified object is a\",class_names[np.argmax((model.predict(X_test.reshape(10000, 32*32*3)))[9])])"
      ],
      "metadata": {
        "colab": {
          "base_uri": "https://localhost:8080/"
        },
        "id": "M-XPwxqySN2J",
        "outputId": "f644e879-0c69-47dd-da74-cd31ae6c2ee2"
      },
      "execution_count": null,
      "outputs": [
        {
          "output_type": "stream",
          "name": "stdout",
          "text": [
            "Above classified object is a automobile\n"
          ]
        }
      ]
    },
    {
      "cell_type": "markdown",
      "source": [
        "##**Apply binary classification on churn modelling dataset.**"
      ],
      "metadata": {
        "id": "ztxm6idxGyv0"
      }
    },
    {
      "cell_type": "markdown",
      "source": [
        "**Baseline model**"
      ],
      "metadata": {
        "id": "WBguznbj-Tgb"
      }
    },
    {
      "cell_type": "code",
      "source": [
        "bank_df=pd.read_csv('./Data/Churn_Modelling.csv')"
      ],
      "metadata": {
        "id": "VQikQd-P-Wdh"
      },
      "execution_count": null,
      "outputs": []
    },
    {
      "cell_type": "code",
      "source": [
        "# we will convert male = 1 and female = 0\n",
        "bank_df.Gender = bank_df.Gender.replace('Male',1)\n",
        "bank_df.Gender = bank_df.Gender.replace('Female',0)"
      ],
      "metadata": {
        "id": "Wh7A3A4VHTjB"
      },
      "execution_count": null,
      "outputs": []
    },
    {
      "cell_type": "code",
      "source": [
        "bank_df=bank_df.drop(columns=['CustomerId','RowNumber','Geography','Surname'])\n",
        "bank_df"
      ],
      "metadata": {
        "colab": {
          "base_uri": "https://localhost:8080/",
          "height": 424
        },
        "id": "aEN9Ssns-dzT",
        "outputId": "8a2cf445-85e8-4982-93f9-5a1ac7e0441d"
      },
      "execution_count": null,
      "outputs": [
        {
          "output_type": "execute_result",
          "data": {
            "text/plain": [
              "      CreditScore  Gender  Age  Tenure    Balance  NumOfProducts  HasCrCard  \\\n",
              "0             619       0   42       2       0.00              1          1   \n",
              "1             608       0   41       1   83807.86              1          0   \n",
              "2             502       0   42       8  159660.80              3          1   \n",
              "3             699       0   39       1       0.00              2          0   \n",
              "4             850       0   43       2  125510.82              1          1   \n",
              "...           ...     ...  ...     ...        ...            ...        ...   \n",
              "9995          771       1   39       5       0.00              2          1   \n",
              "9996          516       1   35      10   57369.61              1          1   \n",
              "9997          709       0   36       7       0.00              1          0   \n",
              "9998          772       1   42       3   75075.31              2          1   \n",
              "9999          792       0   28       4  130142.79              1          1   \n",
              "\n",
              "      IsActiveMember  EstimatedSalary  Exited  \n",
              "0                  1        101348.88       1  \n",
              "1                  1        112542.58       0  \n",
              "2                  0        113931.57       1  \n",
              "3                  0         93826.63       0  \n",
              "4                  1         79084.10       0  \n",
              "...              ...              ...     ...  \n",
              "9995               0         96270.64       0  \n",
              "9996               1        101699.77       0  \n",
              "9997               1         42085.58       1  \n",
              "9998               0         92888.52       1  \n",
              "9999               0         38190.78       0  \n",
              "\n",
              "[10000 rows x 10 columns]"
            ],
            "text/html": [
              "\n",
              "  <div id=\"df-b4ebd7d0-029b-42bb-820e-bb4cd644e243\">\n",
              "    <div class=\"colab-df-container\">\n",
              "      <div>\n",
              "<style scoped>\n",
              "    .dataframe tbody tr th:only-of-type {\n",
              "        vertical-align: middle;\n",
              "    }\n",
              "\n",
              "    .dataframe tbody tr th {\n",
              "        vertical-align: top;\n",
              "    }\n",
              "\n",
              "    .dataframe thead th {\n",
              "        text-align: right;\n",
              "    }\n",
              "</style>\n",
              "<table border=\"1\" class=\"dataframe\">\n",
              "  <thead>\n",
              "    <tr style=\"text-align: right;\">\n",
              "      <th></th>\n",
              "      <th>CreditScore</th>\n",
              "      <th>Gender</th>\n",
              "      <th>Age</th>\n",
              "      <th>Tenure</th>\n",
              "      <th>Balance</th>\n",
              "      <th>NumOfProducts</th>\n",
              "      <th>HasCrCard</th>\n",
              "      <th>IsActiveMember</th>\n",
              "      <th>EstimatedSalary</th>\n",
              "      <th>Exited</th>\n",
              "    </tr>\n",
              "  </thead>\n",
              "  <tbody>\n",
              "    <tr>\n",
              "      <th>0</th>\n",
              "      <td>619</td>\n",
              "      <td>0</td>\n",
              "      <td>42</td>\n",
              "      <td>2</td>\n",
              "      <td>0.00</td>\n",
              "      <td>1</td>\n",
              "      <td>1</td>\n",
              "      <td>1</td>\n",
              "      <td>101348.88</td>\n",
              "      <td>1</td>\n",
              "    </tr>\n",
              "    <tr>\n",
              "      <th>1</th>\n",
              "      <td>608</td>\n",
              "      <td>0</td>\n",
              "      <td>41</td>\n",
              "      <td>1</td>\n",
              "      <td>83807.86</td>\n",
              "      <td>1</td>\n",
              "      <td>0</td>\n",
              "      <td>1</td>\n",
              "      <td>112542.58</td>\n",
              "      <td>0</td>\n",
              "    </tr>\n",
              "    <tr>\n",
              "      <th>2</th>\n",
              "      <td>502</td>\n",
              "      <td>0</td>\n",
              "      <td>42</td>\n",
              "      <td>8</td>\n",
              "      <td>159660.80</td>\n",
              "      <td>3</td>\n",
              "      <td>1</td>\n",
              "      <td>0</td>\n",
              "      <td>113931.57</td>\n",
              "      <td>1</td>\n",
              "    </tr>\n",
              "    <tr>\n",
              "      <th>3</th>\n",
              "      <td>699</td>\n",
              "      <td>0</td>\n",
              "      <td>39</td>\n",
              "      <td>1</td>\n",
              "      <td>0.00</td>\n",
              "      <td>2</td>\n",
              "      <td>0</td>\n",
              "      <td>0</td>\n",
              "      <td>93826.63</td>\n",
              "      <td>0</td>\n",
              "    </tr>\n",
              "    <tr>\n",
              "      <th>4</th>\n",
              "      <td>850</td>\n",
              "      <td>0</td>\n",
              "      <td>43</td>\n",
              "      <td>2</td>\n",
              "      <td>125510.82</td>\n",
              "      <td>1</td>\n",
              "      <td>1</td>\n",
              "      <td>1</td>\n",
              "      <td>79084.10</td>\n",
              "      <td>0</td>\n",
              "    </tr>\n",
              "    <tr>\n",
              "      <th>...</th>\n",
              "      <td>...</td>\n",
              "      <td>...</td>\n",
              "      <td>...</td>\n",
              "      <td>...</td>\n",
              "      <td>...</td>\n",
              "      <td>...</td>\n",
              "      <td>...</td>\n",
              "      <td>...</td>\n",
              "      <td>...</td>\n",
              "      <td>...</td>\n",
              "    </tr>\n",
              "    <tr>\n",
              "      <th>9995</th>\n",
              "      <td>771</td>\n",
              "      <td>1</td>\n",
              "      <td>39</td>\n",
              "      <td>5</td>\n",
              "      <td>0.00</td>\n",
              "      <td>2</td>\n",
              "      <td>1</td>\n",
              "      <td>0</td>\n",
              "      <td>96270.64</td>\n",
              "      <td>0</td>\n",
              "    </tr>\n",
              "    <tr>\n",
              "      <th>9996</th>\n",
              "      <td>516</td>\n",
              "      <td>1</td>\n",
              "      <td>35</td>\n",
              "      <td>10</td>\n",
              "      <td>57369.61</td>\n",
              "      <td>1</td>\n",
              "      <td>1</td>\n",
              "      <td>1</td>\n",
              "      <td>101699.77</td>\n",
              "      <td>0</td>\n",
              "    </tr>\n",
              "    <tr>\n",
              "      <th>9997</th>\n",
              "      <td>709</td>\n",
              "      <td>0</td>\n",
              "      <td>36</td>\n",
              "      <td>7</td>\n",
              "      <td>0.00</td>\n",
              "      <td>1</td>\n",
              "      <td>0</td>\n",
              "      <td>1</td>\n",
              "      <td>42085.58</td>\n",
              "      <td>1</td>\n",
              "    </tr>\n",
              "    <tr>\n",
              "      <th>9998</th>\n",
              "      <td>772</td>\n",
              "      <td>1</td>\n",
              "      <td>42</td>\n",
              "      <td>3</td>\n",
              "      <td>75075.31</td>\n",
              "      <td>2</td>\n",
              "      <td>1</td>\n",
              "      <td>0</td>\n",
              "      <td>92888.52</td>\n",
              "      <td>1</td>\n",
              "    </tr>\n",
              "    <tr>\n",
              "      <th>9999</th>\n",
              "      <td>792</td>\n",
              "      <td>0</td>\n",
              "      <td>28</td>\n",
              "      <td>4</td>\n",
              "      <td>130142.79</td>\n",
              "      <td>1</td>\n",
              "      <td>1</td>\n",
              "      <td>0</td>\n",
              "      <td>38190.78</td>\n",
              "      <td>0</td>\n",
              "    </tr>\n",
              "  </tbody>\n",
              "</table>\n",
              "<p>10000 rows × 10 columns</p>\n",
              "</div>\n",
              "      <button class=\"colab-df-convert\" onclick=\"convertToInteractive('df-b4ebd7d0-029b-42bb-820e-bb4cd644e243')\"\n",
              "              title=\"Convert this dataframe to an interactive table.\"\n",
              "              style=\"display:none;\">\n",
              "        \n",
              "  <svg xmlns=\"http://www.w3.org/2000/svg\" height=\"24px\"viewBox=\"0 0 24 24\"\n",
              "       width=\"24px\">\n",
              "    <path d=\"M0 0h24v24H0V0z\" fill=\"none\"/>\n",
              "    <path d=\"M18.56 5.44l.94 2.06.94-2.06 2.06-.94-2.06-.94-.94-2.06-.94 2.06-2.06.94zm-11 1L8.5 8.5l.94-2.06 2.06-.94-2.06-.94L8.5 2.5l-.94 2.06-2.06.94zm10 10l.94 2.06.94-2.06 2.06-.94-2.06-.94-.94-2.06-.94 2.06-2.06.94z\"/><path d=\"M17.41 7.96l-1.37-1.37c-.4-.4-.92-.59-1.43-.59-.52 0-1.04.2-1.43.59L10.3 9.45l-7.72 7.72c-.78.78-.78 2.05 0 2.83L4 21.41c.39.39.9.59 1.41.59.51 0 1.02-.2 1.41-.59l7.78-7.78 2.81-2.81c.8-.78.8-2.07 0-2.86zM5.41 20L4 18.59l7.72-7.72 1.47 1.35L5.41 20z\"/>\n",
              "  </svg>\n",
              "      </button>\n",
              "      \n",
              "  <style>\n",
              "    .colab-df-container {\n",
              "      display:flex;\n",
              "      flex-wrap:wrap;\n",
              "      gap: 12px;\n",
              "    }\n",
              "\n",
              "    .colab-df-convert {\n",
              "      background-color: #E8F0FE;\n",
              "      border: none;\n",
              "      border-radius: 50%;\n",
              "      cursor: pointer;\n",
              "      display: none;\n",
              "      fill: #1967D2;\n",
              "      height: 32px;\n",
              "      padding: 0 0 0 0;\n",
              "      width: 32px;\n",
              "    }\n",
              "\n",
              "    .colab-df-convert:hover {\n",
              "      background-color: #E2EBFA;\n",
              "      box-shadow: 0px 1px 2px rgba(60, 64, 67, 0.3), 0px 1px 3px 1px rgba(60, 64, 67, 0.15);\n",
              "      fill: #174EA6;\n",
              "    }\n",
              "\n",
              "    [theme=dark] .colab-df-convert {\n",
              "      background-color: #3B4455;\n",
              "      fill: #D2E3FC;\n",
              "    }\n",
              "\n",
              "    [theme=dark] .colab-df-convert:hover {\n",
              "      background-color: #434B5C;\n",
              "      box-shadow: 0px 1px 3px 1px rgba(0, 0, 0, 0.15);\n",
              "      filter: drop-shadow(0px 1px 2px rgba(0, 0, 0, 0.3));\n",
              "      fill: #FFFFFF;\n",
              "    }\n",
              "  </style>\n",
              "\n",
              "      <script>\n",
              "        const buttonEl =\n",
              "          document.querySelector('#df-b4ebd7d0-029b-42bb-820e-bb4cd644e243 button.colab-df-convert');\n",
              "        buttonEl.style.display =\n",
              "          google.colab.kernel.accessAllowed ? 'block' : 'none';\n",
              "\n",
              "        async function convertToInteractive(key) {\n",
              "          const element = document.querySelector('#df-b4ebd7d0-029b-42bb-820e-bb4cd644e243');\n",
              "          const dataTable =\n",
              "            await google.colab.kernel.invokeFunction('convertToInteractive',\n",
              "                                                     [key], {});\n",
              "          if (!dataTable) return;\n",
              "\n",
              "          const docLinkHtml = 'Like what you see? Visit the ' +\n",
              "            '<a target=\"_blank\" href=https://colab.research.google.com/notebooks/data_table.ipynb>data table notebook</a>'\n",
              "            + ' to learn more about interactive tables.';\n",
              "          element.innerHTML = '';\n",
              "          dataTable['output_type'] = 'display_data';\n",
              "          await google.colab.output.renderOutput(dataTable, element);\n",
              "          const docLink = document.createElement('div');\n",
              "          docLink.innerHTML = docLinkHtml;\n",
              "          element.appendChild(docLink);\n",
              "        }\n",
              "      </script>\n",
              "    </div>\n",
              "  </div>\n",
              "  "
            ]
          },
          "metadata": {},
          "execution_count": 8
        }
      ]
    },
    {
      "cell_type": "code",
      "source": [
        "# dividing data into train set and test set\n",
        "train_data1, test_data1 = train_test_split(bank_df, test_size=0.2, random_state=25)\n"
      ],
      "metadata": {
        "id": "F3ftUruCHpsg"
      },
      "execution_count": null,
      "outputs": []
    },
    {
      "cell_type": "code",
      "source": [
        "# Seperating Features and Target values\n",
        "x_train1, y_train1 = train_data1.drop('Exited', axis=1), train_data1['Exited']\n",
        "x_test1, y_test1 = test_data1.drop('Exited', axis=1), test_data1['Exited']"
      ],
      "metadata": {
        "id": "m6rPY0AsHwde"
      },
      "execution_count": null,
      "outputs": []
    },
    {
      "cell_type": "code",
      "source": [
        "#one hot encoding on target values based on no of class\n",
        "ohe = OneHotEncoder()\n",
        "\n",
        "y_train1=np.array(y_train1).reshape(-1,1)\n",
        "y_train1 = ohe.fit_transform(y_train1).toarray()\n",
        "\n",
        "y_test1=np.array(y_test1).reshape(-1,1)\n",
        "y_test1 = ohe.fit_transform(y_test1).toarray()"
      ],
      "metadata": {
        "id": "_OSGSqpQH4DF"
      },
      "execution_count": null,
      "outputs": []
    },
    {
      "cell_type": "code",
      "source": [
        "y_test1"
      ],
      "metadata": {
        "colab": {
          "base_uri": "https://localhost:8080/"
        },
        "id": "sf7Kl-Q3J0-i",
        "outputId": "bf974ba1-56d5-43e0-9791-7b7200f2c99c"
      },
      "execution_count": null,
      "outputs": [
        {
          "output_type": "execute_result",
          "data": {
            "text/plain": [
              "array([[0., 1.],\n",
              "       [1., 0.],\n",
              "       [1., 0.],\n",
              "       ...,\n",
              "       [0., 1.],\n",
              "       [1., 0.],\n",
              "       [1., 0.]])"
            ]
          },
          "metadata": {},
          "execution_count": 12
        }
      ]
    },
    {
      "cell_type": "code",
      "source": [
        "#function to normalize the data\n",
        "\n",
        "def scale_datasets(x_train, x_test):\n",
        "  standard_scaler = StandardScaler()\n",
        "  x_train_scaled = pd.DataFrame(standard_scaler.fit_transform(x_train),columns=x_train.columns\n",
        "  )\n",
        "  x_test_scaled = pd.DataFrame(\n",
        "      standard_scaler.transform(x_test),\n",
        "      columns = x_test.columns\n",
        "  )\n",
        "  return x_train_scaled, x_test_scaled"
      ],
      "metadata": {
        "id": "KH7rQx4w7rJy"
      },
      "execution_count": null,
      "outputs": []
    },
    {
      "cell_type": "code",
      "source": [
        "# normalizing the Features of trainset and testset\n",
        "x_train_scaled_all1, x_test_scaled_all1 = scale_datasets(x_train1, x_test1)"
      ],
      "metadata": {
        "id": "hebYUgWOJTq6"
      },
      "execution_count": null,
      "outputs": []
    },
    {
      "cell_type": "code",
      "execution_count": null,
      "metadata": {
        "colab": {
          "base_uri": "https://localhost:8080/"
        },
        "id": "_JEap1qHZV3H",
        "outputId": "d76c4f4e-2947-408c-9c8e-92a18fc75ab4"
      },
      "outputs": [
        {
          "output_type": "stream",
          "name": "stdout",
          "text": [
            "(6400, 9)\n",
            "(6400, 2)\n",
            "(1600, 9)\n"
          ]
        }
      ],
      "source": [
        "# Dividing scalled train data into train and validation data\n",
        "\n",
        "X_train_scaled1, X_val_scaled1, Y_train1, Y_val1 = train_test_split(x_train_scaled_all1, y_train1, test_size=0.20, random_state=40)\n",
        "print(X_train_scaled1.shape)\n",
        "print(Y_train1.shape)\n",
        "print(X_val_scaled1.shape)\n",
        "#validation data is not test data...\n",
        "#validation data is to check whether during training whether our training is happening successfully or not"
      ]
    },
    {
      "cell_type": "code",
      "execution_count": null,
      "metadata": {
        "id": "Zfz_TtrFZZSw"
      },
      "outputs": [],
      "source": [
        "# Defining model for classification\n",
        "model1 = Sequential()\n",
        "model1.add(Dense(activation = \"relu\", input_dim = 9, \n",
        "                     units = 10, kernel_initializer = \"uniform\"))\n",
        "#model1.add(Dense(activation = \"relu\", units = 8, \n",
        " #                    kernel_initializer = \"uniform\"))\n",
        "model1.add(Dense(activation = \"sigmoid\", units = 2, \n",
        "                     kernel_initializer = \"uniform\"))\n",
        "model1.compile(optimizer = 'SGD' , loss = 'binary_crossentropy', \n",
        "                   metrics = ['accuracy'] )"
      ]
    },
    {
      "cell_type": "code",
      "source": [
        "model1.summary()"
      ],
      "metadata": {
        "colab": {
          "base_uri": "https://localhost:8080/"
        },
        "id": "HJS4qt7hAMPY",
        "outputId": "7bbaec8f-3e73-4050-ce92-30cf3401f5f8"
      },
      "execution_count": null,
      "outputs": [
        {
          "output_type": "stream",
          "name": "stdout",
          "text": [
            "Model: \"sequential_4\"\n",
            "_________________________________________________________________\n",
            " Layer (type)                Output Shape              Param #   \n",
            "=================================================================\n",
            " dense_12 (Dense)            (None, 10)                100       \n",
            "                                                                 \n",
            " dense_13 (Dense)            (None, 2)                 22        \n",
            "                                                                 \n",
            "=================================================================\n",
            "Total params: 122\n",
            "Trainable params: 122\n",
            "Non-trainable params: 0\n",
            "_________________________________________________________________\n"
          ]
        }
      ]
    },
    {
      "cell_type": "code",
      "execution_count": null,
      "metadata": {
        "colab": {
          "base_uri": "https://localhost:8080/"
        },
        "id": "G-NDwtw-ZkEh",
        "outputId": "dde5761c-c81e-4359-949d-933b729e570f"
      },
      "outputs": [
        {
          "output_type": "stream",
          "name": "stdout",
          "text": [
            "Epoch 1/300\n",
            "7/7 [==============================] - 0s 2ms/step - loss: 0.6906 - accuracy: 0.7867\n",
            "Epoch 2/300\n",
            "7/7 [==============================] - 0s 2ms/step - loss: 0.6876 - accuracy: 0.7939\n",
            "Epoch 3/300\n",
            "7/7 [==============================] - 0s 2ms/step - loss: 0.6847 - accuracy: 0.7939\n",
            "Epoch 4/300\n",
            "7/7 [==============================] - 0s 2ms/step - loss: 0.6818 - accuracy: 0.7939\n",
            "Epoch 5/300\n",
            "7/7 [==============================] - 0s 2ms/step - loss: 0.6790 - accuracy: 0.7939\n",
            "Epoch 6/300\n",
            "7/7 [==============================] - 0s 2ms/step - loss: 0.6762 - accuracy: 0.7939\n",
            "Epoch 7/300\n",
            "7/7 [==============================] - 0s 2ms/step - loss: 0.6735 - accuracy: 0.7939\n",
            "Epoch 8/300\n",
            "7/7 [==============================] - 0s 3ms/step - loss: 0.6708 - accuracy: 0.7939\n",
            "Epoch 9/300\n",
            "7/7 [==============================] - 0s 2ms/step - loss: 0.6682 - accuracy: 0.7939\n",
            "Epoch 10/300\n",
            "7/7 [==============================] - 0s 2ms/step - loss: 0.6656 - accuracy: 0.7939\n",
            "Epoch 11/300\n",
            "7/7 [==============================] - 0s 2ms/step - loss: 0.6630 - accuracy: 0.7939\n",
            "Epoch 12/300\n",
            "7/7 [==============================] - 0s 2ms/step - loss: 0.6605 - accuracy: 0.7939\n",
            "Epoch 13/300\n",
            "7/7 [==============================] - 0s 2ms/step - loss: 0.6581 - accuracy: 0.7939\n",
            "Epoch 14/300\n",
            "7/7 [==============================] - 0s 2ms/step - loss: 0.6556 - accuracy: 0.7939\n",
            "Epoch 15/300\n",
            "7/7 [==============================] - 0s 2ms/step - loss: 0.6532 - accuracy: 0.7939\n",
            "Epoch 16/300\n",
            "7/7 [==============================] - 0s 2ms/step - loss: 0.6508 - accuracy: 0.7939\n",
            "Epoch 17/300\n",
            "7/7 [==============================] - 0s 2ms/step - loss: 0.6485 - accuracy: 0.7939\n",
            "Epoch 18/300\n",
            "7/7 [==============================] - 0s 2ms/step - loss: 0.6462 - accuracy: 0.7939\n",
            "Epoch 19/300\n",
            "7/7 [==============================] - 0s 2ms/step - loss: 0.6440 - accuracy: 0.7939\n",
            "Epoch 20/300\n",
            "7/7 [==============================] - 0s 2ms/step - loss: 0.6418 - accuracy: 0.7939\n",
            "Epoch 21/300\n",
            "7/7 [==============================] - 0s 2ms/step - loss: 0.6396 - accuracy: 0.7939\n",
            "Epoch 22/300\n",
            "7/7 [==============================] - 0s 2ms/step - loss: 0.6374 - accuracy: 0.7939\n",
            "Epoch 23/300\n",
            "7/7 [==============================] - 0s 2ms/step - loss: 0.6353 - accuracy: 0.7939\n",
            "Epoch 24/300\n",
            "7/7 [==============================] - 0s 2ms/step - loss: 0.6333 - accuracy: 0.7939\n",
            "Epoch 25/300\n",
            "7/7 [==============================] - 0s 2ms/step - loss: 0.6313 - accuracy: 0.7939\n",
            "Epoch 26/300\n",
            "7/7 [==============================] - 0s 2ms/step - loss: 0.6293 - accuracy: 0.7939\n",
            "Epoch 27/300\n",
            "7/7 [==============================] - 0s 2ms/step - loss: 0.6274 - accuracy: 0.7939\n",
            "Epoch 28/300\n",
            "7/7 [==============================] - 0s 2ms/step - loss: 0.6255 - accuracy: 0.7939\n",
            "Epoch 29/300\n",
            "7/7 [==============================] - 0s 2ms/step - loss: 0.6236 - accuracy: 0.7939\n",
            "Epoch 30/300\n",
            "7/7 [==============================] - 0s 2ms/step - loss: 0.6217 - accuracy: 0.7939\n",
            "Epoch 31/300\n",
            "7/7 [==============================] - 0s 2ms/step - loss: 0.6199 - accuracy: 0.7939\n",
            "Epoch 32/300\n",
            "7/7 [==============================] - 0s 2ms/step - loss: 0.6181 - accuracy: 0.7939\n",
            "Epoch 33/300\n",
            "7/7 [==============================] - 0s 2ms/step - loss: 0.6164 - accuracy: 0.7939\n",
            "Epoch 34/300\n",
            "7/7 [==============================] - 0s 2ms/step - loss: 0.6147 - accuracy: 0.7939\n",
            "Epoch 35/300\n",
            "7/7 [==============================] - 0s 2ms/step - loss: 0.6130 - accuracy: 0.7939\n",
            "Epoch 36/300\n",
            "7/7 [==============================] - 0s 3ms/step - loss: 0.6113 - accuracy: 0.7939\n",
            "Epoch 37/300\n",
            "7/7 [==============================] - 0s 2ms/step - loss: 0.6097 - accuracy: 0.7939\n",
            "Epoch 38/300\n",
            "7/7 [==============================] - 0s 2ms/step - loss: 0.6081 - accuracy: 0.7939\n",
            "Epoch 39/300\n",
            "7/7 [==============================] - 0s 2ms/step - loss: 0.6066 - accuracy: 0.7939\n",
            "Epoch 40/300\n",
            "7/7 [==============================] - 0s 2ms/step - loss: 0.6050 - accuracy: 0.7939\n",
            "Epoch 41/300\n",
            "7/7 [==============================] - 0s 2ms/step - loss: 0.6035 - accuracy: 0.7939\n",
            "Epoch 42/300\n",
            "7/7 [==============================] - 0s 2ms/step - loss: 0.6020 - accuracy: 0.7939\n",
            "Epoch 43/300\n",
            "7/7 [==============================] - 0s 2ms/step - loss: 0.6005 - accuracy: 0.7939\n",
            "Epoch 44/300\n",
            "7/7 [==============================] - 0s 2ms/step - loss: 0.5991 - accuracy: 0.7939\n",
            "Epoch 45/300\n",
            "7/7 [==============================] - 0s 2ms/step - loss: 0.5976 - accuracy: 0.7939\n",
            "Epoch 46/300\n",
            "7/7 [==============================] - 0s 2ms/step - loss: 0.5962 - accuracy: 0.7939\n",
            "Epoch 47/300\n",
            "7/7 [==============================] - 0s 2ms/step - loss: 0.5948 - accuracy: 0.7939\n",
            "Epoch 48/300\n",
            "7/7 [==============================] - 0s 3ms/step - loss: 0.5934 - accuracy: 0.7939\n",
            "Epoch 49/300\n",
            "7/7 [==============================] - 0s 3ms/step - loss: 0.5921 - accuracy: 0.7939\n",
            "Epoch 50/300\n",
            "7/7 [==============================] - 0s 3ms/step - loss: 0.5908 - accuracy: 0.7939\n",
            "Epoch 51/300\n",
            "7/7 [==============================] - 0s 3ms/step - loss: 0.5894 - accuracy: 0.7939\n",
            "Epoch 52/300\n",
            "7/7 [==============================] - 0s 2ms/step - loss: 0.5882 - accuracy: 0.7939\n",
            "Epoch 53/300\n",
            "7/7 [==============================] - 0s 2ms/step - loss: 0.5869 - accuracy: 0.7939\n",
            "Epoch 54/300\n",
            "7/7 [==============================] - 0s 2ms/step - loss: 0.5857 - accuracy: 0.7939\n",
            "Epoch 55/300\n",
            "7/7 [==============================] - 0s 2ms/step - loss: 0.5845 - accuracy: 0.7939\n",
            "Epoch 56/300\n",
            "7/7 [==============================] - 0s 2ms/step - loss: 0.5833 - accuracy: 0.7939\n",
            "Epoch 57/300\n",
            "7/7 [==============================] - 0s 2ms/step - loss: 0.5821 - accuracy: 0.7939\n",
            "Epoch 58/300\n",
            "7/7 [==============================] - 0s 2ms/step - loss: 0.5810 - accuracy: 0.7939\n",
            "Epoch 59/300\n",
            "7/7 [==============================] - 0s 3ms/step - loss: 0.5798 - accuracy: 0.7939\n",
            "Epoch 60/300\n",
            "7/7 [==============================] - 0s 2ms/step - loss: 0.5787 - accuracy: 0.7939\n",
            "Epoch 61/300\n",
            "7/7 [==============================] - 0s 2ms/step - loss: 0.5776 - accuracy: 0.7939\n",
            "Epoch 62/300\n",
            "7/7 [==============================] - 0s 3ms/step - loss: 0.5765 - accuracy: 0.7939\n",
            "Epoch 63/300\n",
            "7/7 [==============================] - 0s 2ms/step - loss: 0.5755 - accuracy: 0.7939\n",
            "Epoch 64/300\n",
            "7/7 [==============================] - 0s 2ms/step - loss: 0.5744 - accuracy: 0.7939\n",
            "Epoch 65/300\n",
            "7/7 [==============================] - 0s 2ms/step - loss: 0.5734 - accuracy: 0.7939\n",
            "Epoch 66/300\n",
            "7/7 [==============================] - 0s 2ms/step - loss: 0.5724 - accuracy: 0.7939\n",
            "Epoch 67/300\n",
            "7/7 [==============================] - 0s 2ms/step - loss: 0.5714 - accuracy: 0.7939\n",
            "Epoch 68/300\n",
            "7/7 [==============================] - 0s 2ms/step - loss: 0.5704 - accuracy: 0.7939\n",
            "Epoch 69/300\n",
            "7/7 [==============================] - 0s 3ms/step - loss: 0.5694 - accuracy: 0.7939\n",
            "Epoch 70/300\n",
            "7/7 [==============================] - 0s 2ms/step - loss: 0.5684 - accuracy: 0.7939\n",
            "Epoch 71/300\n",
            "7/7 [==============================] - 0s 2ms/step - loss: 0.5675 - accuracy: 0.7939\n",
            "Epoch 72/300\n",
            "7/7 [==============================] - 0s 2ms/step - loss: 0.5666 - accuracy: 0.7939\n",
            "Epoch 73/300\n",
            "7/7 [==============================] - 0s 2ms/step - loss: 0.5657 - accuracy: 0.7939\n",
            "Epoch 74/300\n",
            "7/7 [==============================] - 0s 2ms/step - loss: 0.5648 - accuracy: 0.7939\n",
            "Epoch 75/300\n",
            "7/7 [==============================] - 0s 2ms/step - loss: 0.5639 - accuracy: 0.7939\n",
            "Epoch 76/300\n",
            "7/7 [==============================] - 0s 2ms/step - loss: 0.5630 - accuracy: 0.7939\n",
            "Epoch 77/300\n",
            "7/7 [==============================] - 0s 3ms/step - loss: 0.5622 - accuracy: 0.7939\n",
            "Epoch 78/300\n",
            "7/7 [==============================] - 0s 2ms/step - loss: 0.5613 - accuracy: 0.7939\n",
            "Epoch 79/300\n",
            "7/7 [==============================] - 0s 3ms/step - loss: 0.5605 - accuracy: 0.7939\n",
            "Epoch 80/300\n",
            "7/7 [==============================] - 0s 2ms/step - loss: 0.5597 - accuracy: 0.7939\n",
            "Epoch 81/300\n",
            "7/7 [==============================] - 0s 2ms/step - loss: 0.5589 - accuracy: 0.7939\n",
            "Epoch 82/300\n",
            "7/7 [==============================] - 0s 2ms/step - loss: 0.5581 - accuracy: 0.7939\n",
            "Epoch 83/300\n",
            "7/7 [==============================] - 0s 2ms/step - loss: 0.5573 - accuracy: 0.7939\n",
            "Epoch 84/300\n",
            "7/7 [==============================] - 0s 2ms/step - loss: 0.5565 - accuracy: 0.7939\n",
            "Epoch 85/300\n",
            "7/7 [==============================] - 0s 2ms/step - loss: 0.5558 - accuracy: 0.7939\n",
            "Epoch 86/300\n",
            "7/7 [==============================] - 0s 3ms/step - loss: 0.5551 - accuracy: 0.7939\n",
            "Epoch 87/300\n",
            "7/7 [==============================] - 0s 2ms/step - loss: 0.5543 - accuracy: 0.7939\n",
            "Epoch 88/300\n",
            "7/7 [==============================] - 0s 2ms/step - loss: 0.5536 - accuracy: 0.7939\n",
            "Epoch 89/300\n",
            "7/7 [==============================] - 0s 2ms/step - loss: 0.5529 - accuracy: 0.7939\n",
            "Epoch 90/300\n",
            "7/7 [==============================] - 0s 2ms/step - loss: 0.5522 - accuracy: 0.7939\n",
            "Epoch 91/300\n",
            "7/7 [==============================] - 0s 2ms/step - loss: 0.5515 - accuracy: 0.7939\n",
            "Epoch 92/300\n",
            "7/7 [==============================] - 0s 2ms/step - loss: 0.5508 - accuracy: 0.7939\n",
            "Epoch 93/300\n",
            "7/7 [==============================] - 0s 2ms/step - loss: 0.5501 - accuracy: 0.7939\n",
            "Epoch 94/300\n",
            "7/7 [==============================] - 0s 2ms/step - loss: 0.5495 - accuracy: 0.7939\n",
            "Epoch 95/300\n",
            "7/7 [==============================] - 0s 2ms/step - loss: 0.5488 - accuracy: 0.7939\n",
            "Epoch 96/300\n",
            "7/7 [==============================] - 0s 2ms/step - loss: 0.5482 - accuracy: 0.7939\n",
            "Epoch 97/300\n",
            "7/7 [==============================] - 0s 2ms/step - loss: 0.5476 - accuracy: 0.7939\n",
            "Epoch 98/300\n",
            "7/7 [==============================] - 0s 3ms/step - loss: 0.5469 - accuracy: 0.7939\n",
            "Epoch 99/300\n",
            "7/7 [==============================] - 0s 2ms/step - loss: 0.5463 - accuracy: 0.7939\n",
            "Epoch 100/300\n",
            "7/7 [==============================] - 0s 2ms/step - loss: 0.5457 - accuracy: 0.7939\n",
            "Epoch 101/300\n",
            "7/7 [==============================] - 0s 3ms/step - loss: 0.5451 - accuracy: 0.7939\n",
            "Epoch 102/300\n",
            "7/7 [==============================] - 0s 2ms/step - loss: 0.5445 - accuracy: 0.7939\n",
            "Epoch 103/300\n",
            "7/7 [==============================] - 0s 2ms/step - loss: 0.5439 - accuracy: 0.7939\n",
            "Epoch 104/300\n",
            "7/7 [==============================] - 0s 2ms/step - loss: 0.5433 - accuracy: 0.7939\n",
            "Epoch 105/300\n",
            "7/7 [==============================] - 0s 2ms/step - loss: 0.5428 - accuracy: 0.7939\n",
            "Epoch 106/300\n",
            "7/7 [==============================] - 0s 2ms/step - loss: 0.5422 - accuracy: 0.7939\n",
            "Epoch 107/300\n",
            "7/7 [==============================] - 0s 2ms/step - loss: 0.5417 - accuracy: 0.7939\n",
            "Epoch 108/300\n",
            "7/7 [==============================] - 0s 2ms/step - loss: 0.5411 - accuracy: 0.7939\n",
            "Epoch 109/300\n",
            "7/7 [==============================] - 0s 3ms/step - loss: 0.5406 - accuracy: 0.7939\n",
            "Epoch 110/300\n",
            "7/7 [==============================] - 0s 2ms/step - loss: 0.5401 - accuracy: 0.7939\n",
            "Epoch 111/300\n",
            "7/7 [==============================] - 0s 2ms/step - loss: 0.5396 - accuracy: 0.7939\n",
            "Epoch 112/300\n",
            "7/7 [==============================] - 0s 2ms/step - loss: 0.5391 - accuracy: 0.7939\n",
            "Epoch 113/300\n",
            "7/7 [==============================] - 0s 2ms/step - loss: 0.5386 - accuracy: 0.7939\n",
            "Epoch 114/300\n",
            "7/7 [==============================] - 0s 2ms/step - loss: 0.5381 - accuracy: 0.7939\n",
            "Epoch 115/300\n",
            "7/7 [==============================] - 0s 2ms/step - loss: 0.5376 - accuracy: 0.7939\n",
            "Epoch 116/300\n",
            "7/7 [==============================] - 0s 3ms/step - loss: 0.5371 - accuracy: 0.7939\n",
            "Epoch 117/300\n",
            "7/7 [==============================] - 0s 2ms/step - loss: 0.5366 - accuracy: 0.7939\n",
            "Epoch 118/300\n",
            "7/7 [==============================] - 0s 2ms/step - loss: 0.5361 - accuracy: 0.7939\n",
            "Epoch 119/300\n",
            "7/7 [==============================] - 0s 2ms/step - loss: 0.5357 - accuracy: 0.7939\n",
            "Epoch 120/300\n",
            "7/7 [==============================] - 0s 2ms/step - loss: 0.5352 - accuracy: 0.7939\n",
            "Epoch 121/300\n",
            "7/7 [==============================] - 0s 2ms/step - loss: 0.5347 - accuracy: 0.7939\n",
            "Epoch 122/300\n",
            "7/7 [==============================] - 0s 2ms/step - loss: 0.5343 - accuracy: 0.7939\n",
            "Epoch 123/300\n",
            "7/7 [==============================] - 0s 2ms/step - loss: 0.5339 - accuracy: 0.7939\n",
            "Epoch 124/300\n",
            "7/7 [==============================] - 0s 2ms/step - loss: 0.5334 - accuracy: 0.7939\n",
            "Epoch 125/300\n",
            "7/7 [==============================] - 0s 2ms/step - loss: 0.5330 - accuracy: 0.7939\n",
            "Epoch 126/300\n",
            "7/7 [==============================] - 0s 3ms/step - loss: 0.5326 - accuracy: 0.7939\n",
            "Epoch 127/300\n",
            "7/7 [==============================] - 0s 2ms/step - loss: 0.5322 - accuracy: 0.7939\n",
            "Epoch 128/300\n",
            "7/7 [==============================] - 0s 2ms/step - loss: 0.5317 - accuracy: 0.7939\n",
            "Epoch 129/300\n",
            "7/7 [==============================] - 0s 3ms/step - loss: 0.5313 - accuracy: 0.7939\n",
            "Epoch 130/300\n",
            "7/7 [==============================] - 0s 2ms/step - loss: 0.5309 - accuracy: 0.7939\n",
            "Epoch 131/300\n",
            "7/7 [==============================] - 0s 2ms/step - loss: 0.5305 - accuracy: 0.7939\n",
            "Epoch 132/300\n",
            "7/7 [==============================] - 0s 2ms/step - loss: 0.5301 - accuracy: 0.7939\n",
            "Epoch 133/300\n",
            "7/7 [==============================] - 0s 2ms/step - loss: 0.5298 - accuracy: 0.7939\n",
            "Epoch 134/300\n",
            "7/7 [==============================] - 0s 2ms/step - loss: 0.5294 - accuracy: 0.7939\n",
            "Epoch 135/300\n",
            "7/7 [==============================] - 0s 2ms/step - loss: 0.5290 - accuracy: 0.7939\n",
            "Epoch 136/300\n",
            "7/7 [==============================] - 0s 2ms/step - loss: 0.5286 - accuracy: 0.7939\n",
            "Epoch 137/300\n",
            "7/7 [==============================] - 0s 2ms/step - loss: 0.5282 - accuracy: 0.7939\n",
            "Epoch 138/300\n",
            "7/7 [==============================] - 0s 2ms/step - loss: 0.5278 - accuracy: 0.7939\n",
            "Epoch 139/300\n",
            "7/7 [==============================] - 0s 2ms/step - loss: 0.5275 - accuracy: 0.7939\n",
            "Epoch 140/300\n",
            "7/7 [==============================] - 0s 3ms/step - loss: 0.5271 - accuracy: 0.7939\n",
            "Epoch 141/300\n",
            "7/7 [==============================] - 0s 2ms/step - loss: 0.5268 - accuracy: 0.7939\n",
            "Epoch 142/300\n",
            "7/7 [==============================] - 0s 2ms/step - loss: 0.5264 - accuracy: 0.7939\n",
            "Epoch 143/300\n",
            "7/7 [==============================] - 0s 2ms/step - loss: 0.5261 - accuracy: 0.7939\n",
            "Epoch 144/300\n",
            "7/7 [==============================] - 0s 2ms/step - loss: 0.5257 - accuracy: 0.7939\n",
            "Epoch 145/300\n",
            "7/7 [==============================] - 0s 2ms/step - loss: 0.5254 - accuracy: 0.7939\n",
            "Epoch 146/300\n",
            "7/7 [==============================] - 0s 2ms/step - loss: 0.5250 - accuracy: 0.7939\n",
            "Epoch 147/300\n",
            "7/7 [==============================] - 0s 2ms/step - loss: 0.5247 - accuracy: 0.7939\n",
            "Epoch 148/300\n",
            "7/7 [==============================] - 0s 2ms/step - loss: 0.5244 - accuracy: 0.7939\n",
            "Epoch 149/300\n",
            "7/7 [==============================] - 0s 3ms/step - loss: 0.5241 - accuracy: 0.7939\n",
            "Epoch 150/300\n",
            "7/7 [==============================] - 0s 3ms/step - loss: 0.5237 - accuracy: 0.7939\n",
            "Epoch 151/300\n",
            "7/7 [==============================] - 0s 2ms/step - loss: 0.5234 - accuracy: 0.7939\n",
            "Epoch 152/300\n",
            "7/7 [==============================] - 0s 2ms/step - loss: 0.5231 - accuracy: 0.7939\n",
            "Epoch 153/300\n",
            "7/7 [==============================] - 0s 2ms/step - loss: 0.5228 - accuracy: 0.7939\n",
            "Epoch 154/300\n",
            "7/7 [==============================] - 0s 2ms/step - loss: 0.5225 - accuracy: 0.7939\n",
            "Epoch 155/300\n",
            "7/7 [==============================] - 0s 2ms/step - loss: 0.5222 - accuracy: 0.7939\n",
            "Epoch 156/300\n",
            "7/7 [==============================] - 0s 2ms/step - loss: 0.5219 - accuracy: 0.7939\n",
            "Epoch 157/300\n",
            "7/7 [==============================] - 0s 2ms/step - loss: 0.5216 - accuracy: 0.7939\n",
            "Epoch 158/300\n",
            "7/7 [==============================] - 0s 2ms/step - loss: 0.5213 - accuracy: 0.7939\n",
            "Epoch 159/300\n",
            "7/7 [==============================] - 0s 2ms/step - loss: 0.5210 - accuracy: 0.7939\n",
            "Epoch 160/300\n",
            "7/7 [==============================] - 0s 3ms/step - loss: 0.5207 - accuracy: 0.7939\n",
            "Epoch 161/300\n",
            "7/7 [==============================] - 0s 2ms/step - loss: 0.5204 - accuracy: 0.7939\n",
            "Epoch 162/300\n",
            "7/7 [==============================] - 0s 2ms/step - loss: 0.5201 - accuracy: 0.7939\n",
            "Epoch 163/300\n",
            "7/7 [==============================] - 0s 2ms/step - loss: 0.5198 - accuracy: 0.7939\n",
            "Epoch 164/300\n",
            "7/7 [==============================] - 0s 2ms/step - loss: 0.5196 - accuracy: 0.7939\n",
            "Epoch 165/300\n",
            "7/7 [==============================] - 0s 2ms/step - loss: 0.5193 - accuracy: 0.7939\n",
            "Epoch 166/300\n",
            "7/7 [==============================] - 0s 3ms/step - loss: 0.5190 - accuracy: 0.7939\n",
            "Epoch 167/300\n",
            "7/7 [==============================] - 0s 2ms/step - loss: 0.5188 - accuracy: 0.7939\n",
            "Epoch 168/300\n",
            "7/7 [==============================] - 0s 2ms/step - loss: 0.5185 - accuracy: 0.7939\n",
            "Epoch 169/300\n",
            "7/7 [==============================] - 0s 2ms/step - loss: 0.5182 - accuracy: 0.7939\n",
            "Epoch 170/300\n",
            "7/7 [==============================] - 0s 2ms/step - loss: 0.5180 - accuracy: 0.7939\n",
            "Epoch 171/300\n",
            "7/7 [==============================] - 0s 2ms/step - loss: 0.5177 - accuracy: 0.7939\n",
            "Epoch 172/300\n",
            "7/7 [==============================] - 0s 3ms/step - loss: 0.5174 - accuracy: 0.7939\n",
            "Epoch 173/300\n",
            "7/7 [==============================] - 0s 2ms/step - loss: 0.5172 - accuracy: 0.7939\n",
            "Epoch 174/300\n",
            "7/7 [==============================] - 0s 2ms/step - loss: 0.5169 - accuracy: 0.7939\n",
            "Epoch 175/300\n",
            "7/7 [==============================] - 0s 2ms/step - loss: 0.5167 - accuracy: 0.7939\n",
            "Epoch 176/300\n",
            "7/7 [==============================] - 0s 2ms/step - loss: 0.5164 - accuracy: 0.7939\n",
            "Epoch 177/300\n",
            "7/7 [==============================] - 0s 2ms/step - loss: 0.5162 - accuracy: 0.7939\n",
            "Epoch 178/300\n",
            "7/7 [==============================] - 0s 3ms/step - loss: 0.5159 - accuracy: 0.7939\n",
            "Epoch 179/300\n",
            "7/7 [==============================] - 0s 2ms/step - loss: 0.5157 - accuracy: 0.7939\n",
            "Epoch 180/300\n",
            "7/7 [==============================] - 0s 2ms/step - loss: 0.5154 - accuracy: 0.7939\n",
            "Epoch 181/300\n",
            "7/7 [==============================] - 0s 3ms/step - loss: 0.5152 - accuracy: 0.7939\n",
            "Epoch 182/300\n",
            "7/7 [==============================] - 0s 3ms/step - loss: 0.5150 - accuracy: 0.7939\n",
            "Epoch 183/300\n",
            "7/7 [==============================] - 0s 2ms/step - loss: 0.5147 - accuracy: 0.7939\n",
            "Epoch 184/300\n",
            "7/7 [==============================] - 0s 2ms/step - loss: 0.5145 - accuracy: 0.7939\n",
            "Epoch 185/300\n",
            "7/7 [==============================] - 0s 3ms/step - loss: 0.5143 - accuracy: 0.7939\n",
            "Epoch 186/300\n",
            "7/7 [==============================] - 0s 3ms/step - loss: 0.5141 - accuracy: 0.7939\n",
            "Epoch 187/300\n",
            "7/7 [==============================] - 0s 3ms/step - loss: 0.5138 - accuracy: 0.7939\n",
            "Epoch 188/300\n",
            "7/7 [==============================] - 0s 3ms/step - loss: 0.5136 - accuracy: 0.7939\n",
            "Epoch 189/300\n",
            "7/7 [==============================] - 0s 2ms/step - loss: 0.5134 - accuracy: 0.7939\n",
            "Epoch 190/300\n",
            "7/7 [==============================] - 0s 3ms/step - loss: 0.5132 - accuracy: 0.7939\n",
            "Epoch 191/300\n",
            "7/7 [==============================] - 0s 3ms/step - loss: 0.5130 - accuracy: 0.7939\n",
            "Epoch 192/300\n",
            "7/7 [==============================] - 0s 2ms/step - loss: 0.5127 - accuracy: 0.7939\n",
            "Epoch 193/300\n",
            "7/7 [==============================] - 0s 3ms/step - loss: 0.5125 - accuracy: 0.7939\n",
            "Epoch 194/300\n",
            "7/7 [==============================] - 0s 3ms/step - loss: 0.5123 - accuracy: 0.7939\n",
            "Epoch 195/300\n",
            "7/7 [==============================] - 0s 2ms/step - loss: 0.5121 - accuracy: 0.7939\n",
            "Epoch 196/300\n",
            "7/7 [==============================] - 0s 2ms/step - loss: 0.5119 - accuracy: 0.7939\n",
            "Epoch 197/300\n",
            "7/7 [==============================] - 0s 2ms/step - loss: 0.5117 - accuracy: 0.7939\n",
            "Epoch 198/300\n",
            "7/7 [==============================] - 0s 2ms/step - loss: 0.5115 - accuracy: 0.7939\n",
            "Epoch 199/300\n",
            "7/7 [==============================] - 0s 2ms/step - loss: 0.5113 - accuracy: 0.7939\n",
            "Epoch 200/300\n",
            "7/7 [==============================] - 0s 3ms/step - loss: 0.5111 - accuracy: 0.7939\n",
            "Epoch 201/300\n",
            "7/7 [==============================] - 0s 2ms/step - loss: 0.5109 - accuracy: 0.7939\n",
            "Epoch 202/300\n",
            "7/7 [==============================] - 0s 2ms/step - loss: 0.5107 - accuracy: 0.7939\n",
            "Epoch 203/300\n",
            "7/7 [==============================] - 0s 2ms/step - loss: 0.5105 - accuracy: 0.7939\n",
            "Epoch 204/300\n",
            "7/7 [==============================] - 0s 2ms/step - loss: 0.5103 - accuracy: 0.7939\n",
            "Epoch 205/300\n",
            "7/7 [==============================] - 0s 3ms/step - loss: 0.5101 - accuracy: 0.7939\n",
            "Epoch 206/300\n",
            "7/7 [==============================] - 0s 2ms/step - loss: 0.5099 - accuracy: 0.7939\n",
            "Epoch 207/300\n",
            "7/7 [==============================] - 0s 2ms/step - loss: 0.5097 - accuracy: 0.7939\n",
            "Epoch 208/300\n",
            "7/7 [==============================] - 0s 2ms/step - loss: 0.5095 - accuracy: 0.7939\n",
            "Epoch 209/300\n",
            "7/7 [==============================] - 0s 2ms/step - loss: 0.5093 - accuracy: 0.7939\n",
            "Epoch 210/300\n",
            "7/7 [==============================] - 0s 2ms/step - loss: 0.5091 - accuracy: 0.7939\n",
            "Epoch 211/300\n",
            "7/7 [==============================] - 0s 2ms/step - loss: 0.5089 - accuracy: 0.7939\n",
            "Epoch 212/300\n",
            "7/7 [==============================] - 0s 2ms/step - loss: 0.5087 - accuracy: 0.7939\n",
            "Epoch 213/300\n",
            "7/7 [==============================] - 0s 2ms/step - loss: 0.5085 - accuracy: 0.7939\n",
            "Epoch 214/300\n",
            "7/7 [==============================] - 0s 2ms/step - loss: 0.5083 - accuracy: 0.7939\n",
            "Epoch 215/300\n",
            "7/7 [==============================] - 0s 2ms/step - loss: 0.5081 - accuracy: 0.7939\n",
            "Epoch 216/300\n",
            "7/7 [==============================] - 0s 3ms/step - loss: 0.5079 - accuracy: 0.7939\n",
            "Epoch 217/300\n",
            "7/7 [==============================] - 0s 2ms/step - loss: 0.5078 - accuracy: 0.7939\n",
            "Epoch 218/300\n",
            "7/7 [==============================] - 0s 3ms/step - loss: 0.5076 - accuracy: 0.7939\n",
            "Epoch 219/300\n",
            "7/7 [==============================] - 0s 2ms/step - loss: 0.5074 - accuracy: 0.7939\n",
            "Epoch 220/300\n",
            "7/7 [==============================] - 0s 3ms/step - loss: 0.5072 - accuracy: 0.7939\n",
            "Epoch 221/300\n",
            "7/7 [==============================] - 0s 2ms/step - loss: 0.5070 - accuracy: 0.7939\n",
            "Epoch 222/300\n",
            "7/7 [==============================] - 0s 2ms/step - loss: 0.5068 - accuracy: 0.7939\n",
            "Epoch 223/300\n",
            "7/7 [==============================] - 0s 4ms/step - loss: 0.5067 - accuracy: 0.7939\n",
            "Epoch 224/300\n",
            "7/7 [==============================] - 0s 2ms/step - loss: 0.5065 - accuracy: 0.7939\n",
            "Epoch 225/300\n",
            "7/7 [==============================] - 0s 2ms/step - loss: 0.5063 - accuracy: 0.7939\n",
            "Epoch 226/300\n",
            "7/7 [==============================] - 0s 2ms/step - loss: 0.5061 - accuracy: 0.7939\n",
            "Epoch 227/300\n",
            "7/7 [==============================] - 0s 3ms/step - loss: 0.5059 - accuracy: 0.7939\n",
            "Epoch 228/300\n",
            "7/7 [==============================] - 0s 3ms/step - loss: 0.5057 - accuracy: 0.7939\n",
            "Epoch 229/300\n",
            "7/7 [==============================] - 0s 2ms/step - loss: 0.5056 - accuracy: 0.7939\n",
            "Epoch 230/300\n",
            "7/7 [==============================] - 0s 2ms/step - loss: 0.5054 - accuracy: 0.7939\n",
            "Epoch 231/300\n",
            "7/7 [==============================] - 0s 2ms/step - loss: 0.5052 - accuracy: 0.7939\n",
            "Epoch 232/300\n",
            "7/7 [==============================] - 0s 2ms/step - loss: 0.5050 - accuracy: 0.7939\n",
            "Epoch 233/300\n",
            "7/7 [==============================] - 0s 2ms/step - loss: 0.5048 - accuracy: 0.7939\n",
            "Epoch 234/300\n",
            "7/7 [==============================] - 0s 3ms/step - loss: 0.5047 - accuracy: 0.7939\n",
            "Epoch 235/300\n",
            "7/7 [==============================] - 0s 3ms/step - loss: 0.5045 - accuracy: 0.7939\n",
            "Epoch 236/300\n",
            "7/7 [==============================] - 0s 3ms/step - loss: 0.5043 - accuracy: 0.7939\n",
            "Epoch 237/300\n",
            "7/7 [==============================] - 0s 2ms/step - loss: 0.5041 - accuracy: 0.7939\n",
            "Epoch 238/300\n",
            "7/7 [==============================] - 0s 3ms/step - loss: 0.5040 - accuracy: 0.7939\n",
            "Epoch 239/300\n",
            "7/7 [==============================] - 0s 2ms/step - loss: 0.5038 - accuracy: 0.7939\n",
            "Epoch 240/300\n",
            "7/7 [==============================] - 0s 3ms/step - loss: 0.5036 - accuracy: 0.7939\n",
            "Epoch 241/300\n",
            "7/7 [==============================] - 0s 2ms/step - loss: 0.5034 - accuracy: 0.7939\n",
            "Epoch 242/300\n",
            "7/7 [==============================] - 0s 3ms/step - loss: 0.5033 - accuracy: 0.7939\n",
            "Epoch 243/300\n",
            "7/7 [==============================] - 0s 2ms/step - loss: 0.5031 - accuracy: 0.7939\n",
            "Epoch 244/300\n",
            "7/7 [==============================] - 0s 2ms/step - loss: 0.5029 - accuracy: 0.7939\n",
            "Epoch 245/300\n",
            "7/7 [==============================] - 0s 3ms/step - loss: 0.5028 - accuracy: 0.7939\n",
            "Epoch 246/300\n",
            "7/7 [==============================] - 0s 2ms/step - loss: 0.5026 - accuracy: 0.7939\n",
            "Epoch 247/300\n",
            "7/7 [==============================] - 0s 3ms/step - loss: 0.5024 - accuracy: 0.7939\n",
            "Epoch 248/300\n",
            "7/7 [==============================] - 0s 2ms/step - loss: 0.5022 - accuracy: 0.7939\n",
            "Epoch 249/300\n",
            "7/7 [==============================] - 0s 2ms/step - loss: 0.5021 - accuracy: 0.7939\n",
            "Epoch 250/300\n",
            "7/7 [==============================] - 0s 2ms/step - loss: 0.5019 - accuracy: 0.7939\n",
            "Epoch 251/300\n",
            "7/7 [==============================] - 0s 2ms/step - loss: 0.5017 - accuracy: 0.7939\n",
            "Epoch 252/300\n",
            "7/7 [==============================] - 0s 2ms/step - loss: 0.5016 - accuracy: 0.7939\n",
            "Epoch 253/300\n",
            "7/7 [==============================] - 0s 3ms/step - loss: 0.5014 - accuracy: 0.7939\n",
            "Epoch 254/300\n",
            "7/7 [==============================] - 0s 2ms/step - loss: 0.5012 - accuracy: 0.7939\n",
            "Epoch 255/300\n",
            "7/7 [==============================] - 0s 3ms/step - loss: 0.5011 - accuracy: 0.7939\n",
            "Epoch 256/300\n",
            "7/7 [==============================] - 0s 2ms/step - loss: 0.5009 - accuracy: 0.7939\n",
            "Epoch 257/300\n",
            "7/7 [==============================] - 0s 3ms/step - loss: 0.5007 - accuracy: 0.7939\n",
            "Epoch 258/300\n",
            "7/7 [==============================] - 0s 3ms/step - loss: 0.5006 - accuracy: 0.7939\n",
            "Epoch 259/300\n",
            "7/7 [==============================] - 0s 2ms/step - loss: 0.5004 - accuracy: 0.7939\n",
            "Epoch 260/300\n",
            "7/7 [==============================] - 0s 3ms/step - loss: 0.5002 - accuracy: 0.7939\n",
            "Epoch 261/300\n",
            "7/7 [==============================] - 0s 2ms/step - loss: 0.5001 - accuracy: 0.7939\n",
            "Epoch 262/300\n",
            "7/7 [==============================] - 0s 3ms/step - loss: 0.4999 - accuracy: 0.7939\n",
            "Epoch 263/300\n",
            "7/7 [==============================] - 0s 3ms/step - loss: 0.4998 - accuracy: 0.7939\n",
            "Epoch 264/300\n",
            "7/7 [==============================] - 0s 3ms/step - loss: 0.4996 - accuracy: 0.7939\n",
            "Epoch 265/300\n",
            "7/7 [==============================] - 0s 3ms/step - loss: 0.4994 - accuracy: 0.7939\n",
            "Epoch 266/300\n",
            "7/7 [==============================] - 0s 3ms/step - loss: 0.4993 - accuracy: 0.7939\n",
            "Epoch 267/300\n",
            "7/7 [==============================] - 0s 3ms/step - loss: 0.4991 - accuracy: 0.7939\n",
            "Epoch 268/300\n",
            "7/7 [==============================] - 0s 2ms/step - loss: 0.4989 - accuracy: 0.7939\n",
            "Epoch 269/300\n",
            "7/7 [==============================] - 0s 4ms/step - loss: 0.4988 - accuracy: 0.7939\n",
            "Epoch 270/300\n",
            "7/7 [==============================] - 0s 2ms/step - loss: 0.4986 - accuracy: 0.7939\n",
            "Epoch 271/300\n",
            "7/7 [==============================] - 0s 3ms/step - loss: 0.4985 - accuracy: 0.7939\n",
            "Epoch 272/300\n",
            "7/7 [==============================] - 0s 3ms/step - loss: 0.4983 - accuracy: 0.7939\n",
            "Epoch 273/300\n",
            "7/7 [==============================] - 0s 2ms/step - loss: 0.4981 - accuracy: 0.7939\n",
            "Epoch 274/300\n",
            "7/7 [==============================] - 0s 2ms/step - loss: 0.4980 - accuracy: 0.7939\n",
            "Epoch 275/300\n",
            "7/7 [==============================] - 0s 2ms/step - loss: 0.4978 - accuracy: 0.7939\n",
            "Epoch 276/300\n",
            "7/7 [==============================] - 0s 2ms/step - loss: 0.4976 - accuracy: 0.7939\n",
            "Epoch 277/300\n",
            "7/7 [==============================] - 0s 3ms/step - loss: 0.4975 - accuracy: 0.7939\n",
            "Epoch 278/300\n",
            "7/7 [==============================] - 0s 3ms/step - loss: 0.4973 - accuracy: 0.7939\n",
            "Epoch 279/300\n",
            "7/7 [==============================] - 0s 3ms/step - loss: 0.4972 - accuracy: 0.7939\n",
            "Epoch 280/300\n",
            "7/7 [==============================] - 0s 2ms/step - loss: 0.4970 - accuracy: 0.7939\n",
            "Epoch 281/300\n",
            "7/7 [==============================] - 0s 2ms/step - loss: 0.4968 - accuracy: 0.7939\n",
            "Epoch 282/300\n",
            "7/7 [==============================] - 0s 3ms/step - loss: 0.4967 - accuracy: 0.7939\n",
            "Epoch 283/300\n",
            "7/7 [==============================] - 0s 2ms/step - loss: 0.4965 - accuracy: 0.7939\n",
            "Epoch 284/300\n",
            "7/7 [==============================] - 0s 3ms/step - loss: 0.4964 - accuracy: 0.7939\n",
            "Epoch 285/300\n",
            "7/7 [==============================] - 0s 3ms/step - loss: 0.4962 - accuracy: 0.7939\n",
            "Epoch 286/300\n",
            "7/7 [==============================] - 0s 2ms/step - loss: 0.4961 - accuracy: 0.7939\n",
            "Epoch 287/300\n",
            "7/7 [==============================] - 0s 2ms/step - loss: 0.4959 - accuracy: 0.7939\n",
            "Epoch 288/300\n",
            "7/7 [==============================] - 0s 3ms/step - loss: 0.4957 - accuracy: 0.7939\n",
            "Epoch 289/300\n",
            "7/7 [==============================] - 0s 2ms/step - loss: 0.4956 - accuracy: 0.7939\n",
            "Epoch 290/300\n",
            "7/7 [==============================] - 0s 3ms/step - loss: 0.4954 - accuracy: 0.7939\n",
            "Epoch 291/300\n",
            "7/7 [==============================] - 0s 2ms/step - loss: 0.4953 - accuracy: 0.7939\n",
            "Epoch 292/300\n",
            "7/7 [==============================] - 0s 3ms/step - loss: 0.4951 - accuracy: 0.7939\n",
            "Epoch 293/300\n",
            "7/7 [==============================] - 0s 2ms/step - loss: 0.4949 - accuracy: 0.7939\n",
            "Epoch 294/300\n",
            "7/7 [==============================] - 0s 2ms/step - loss: 0.4948 - accuracy: 0.7939\n",
            "Epoch 295/300\n",
            "7/7 [==============================] - 0s 2ms/step - loss: 0.4946 - accuracy: 0.7939\n",
            "Epoch 296/300\n",
            "7/7 [==============================] - 0s 2ms/step - loss: 0.4945 - accuracy: 0.7939\n",
            "Epoch 297/300\n",
            "7/7 [==============================] - 0s 3ms/step - loss: 0.4943 - accuracy: 0.7939\n",
            "Epoch 298/300\n",
            "7/7 [==============================] - 0s 3ms/step - loss: 0.4941 - accuracy: 0.7939\n",
            "Epoch 299/300\n",
            "7/7 [==============================] - 0s 2ms/step - loss: 0.4940 - accuracy: 0.7939\n",
            "Epoch 300/300\n",
            "7/7 [==============================] - 0s 2ms/step - loss: 0.4938 - accuracy: 0.7939\n"
          ]
        }
      ],
      "source": [
        "history=model1.fit(X_train_scaled1 , Y_train1 , batch_size = 1024 ,epochs = 300 )\n"
      ]
    },
    {
      "cell_type": "code",
      "execution_count": null,
      "metadata": {
        "colab": {
          "base_uri": "https://localhost:8080/"
        },
        "id": "NOnrfnFobRtp",
        "outputId": "61eac838-c14a-43c9-e08a-4988906373c7"
      },
      "outputs": [
        {
          "output_type": "stream",
          "name": "stdout",
          "text": [
            "Accuracy on training data: 79.39062714576721% \n",
            "Error on training data: 20.609372854232788\n"
          ]
        }
      ],
      "source": [
        "# prediction on scalled train data\n",
        "pred_train1= model1.predict(X_train_scaled1)\n",
        "scores = model1.evaluate(X_train_scaled1, Y_train1, verbose=0)\n",
        "print('Accuracy on training data: {}% \\nError on training data: {}'.format(scores[1]*100, (1 - scores[1])*100))   \n",
        " "
      ]
    },
    {
      "cell_type": "code",
      "source": [
        "# prediction on scalled test data\n",
        "pred_test1= model1.predict(x_test_scaled_all1)\n",
        "\n",
        "scores1 = model1.evaluate(x_test_scaled_all1, y_test1, verbose=0)\n",
        "print('Accuracy on test data: {}% \\nError on test data: {}'.format(scores1[1]*100, (1 - scores1[1])*100))    "
      ],
      "metadata": {
        "colab": {
          "base_uri": "https://localhost:8080/"
        },
        "id": "wu7NzVduR4px",
        "outputId": "1652842f-f2bf-4720-9ef1-58842ef2e9c4"
      },
      "execution_count": null,
      "outputs": [
        {
          "output_type": "stream",
          "name": "stdout",
          "text": [
            "Accuracy on test data: 80.50000071525574% \n",
            "Error on test data: 19.499999284744263\n"
          ]
        }
      ]
    },
    {
      "cell_type": "code",
      "source": [
        "#Converting predictions to label(reversing onehot encoding operation)\n",
        "pred1 = list()\n",
        "for i in range(len(pred_test1)):\n",
        "    pred1.append(np.argmax(pred_test1[i])) # returns index of maximum value"
      ],
      "metadata": {
        "id": "TY0vsuPlmo5T"
      },
      "execution_count": null,
      "outputs": []
    },
    {
      "cell_type": "code",
      "source": [
        "#Converting predictions to label(reversing onehot encoding operation) \n",
        "test1 = list()\n",
        "for i in range(len(y_test1)):\n",
        "    test1.append(np.argmax(y_test1[i])) # returns index of maximum value\n"
      ],
      "metadata": {
        "id": "hCxVl_Rgu1tt"
      },
      "execution_count": null,
      "outputs": []
    },
    {
      "cell_type": "code",
      "source": [
        "#comparing test and prediction\n",
        "pd.DataFrame({'Test':test1,'Pred':pred1}).head(20)"
      ],
      "metadata": {
        "colab": {
          "base_uri": "https://localhost:8080/",
          "height": 677
        },
        "id": "wZkSy0M_uxvf",
        "outputId": "f941c69d-13b4-494d-cbe5-ebb054fe8787"
      },
      "execution_count": null,
      "outputs": [
        {
          "output_type": "execute_result",
          "data": {
            "text/plain": [
              "    Test  Pred\n",
              "0      1     0\n",
              "1      0     0\n",
              "2      0     0\n",
              "3      0     0\n",
              "4      0     0\n",
              "5      0     0\n",
              "6      0     0\n",
              "7      0     0\n",
              "8      0     0\n",
              "9      0     0\n",
              "10     0     0\n",
              "11     1     0\n",
              "12     0     0\n",
              "13     1     0\n",
              "14     0     0\n",
              "15     0     0\n",
              "16     0     0\n",
              "17     0     0\n",
              "18     1     0\n",
              "19     0     0"
            ],
            "text/html": [
              "\n",
              "  <div id=\"df-0b135835-0606-4af9-9375-4a7bd4da9a74\">\n",
              "    <div class=\"colab-df-container\">\n",
              "      <div>\n",
              "<style scoped>\n",
              "    .dataframe tbody tr th:only-of-type {\n",
              "        vertical-align: middle;\n",
              "    }\n",
              "\n",
              "    .dataframe tbody tr th {\n",
              "        vertical-align: top;\n",
              "    }\n",
              "\n",
              "    .dataframe thead th {\n",
              "        text-align: right;\n",
              "    }\n",
              "</style>\n",
              "<table border=\"1\" class=\"dataframe\">\n",
              "  <thead>\n",
              "    <tr style=\"text-align: right;\">\n",
              "      <th></th>\n",
              "      <th>Test</th>\n",
              "      <th>Pred</th>\n",
              "    </tr>\n",
              "  </thead>\n",
              "  <tbody>\n",
              "    <tr>\n",
              "      <th>0</th>\n",
              "      <td>1</td>\n",
              "      <td>0</td>\n",
              "    </tr>\n",
              "    <tr>\n",
              "      <th>1</th>\n",
              "      <td>0</td>\n",
              "      <td>0</td>\n",
              "    </tr>\n",
              "    <tr>\n",
              "      <th>2</th>\n",
              "      <td>0</td>\n",
              "      <td>0</td>\n",
              "    </tr>\n",
              "    <tr>\n",
              "      <th>3</th>\n",
              "      <td>0</td>\n",
              "      <td>0</td>\n",
              "    </tr>\n",
              "    <tr>\n",
              "      <th>4</th>\n",
              "      <td>0</td>\n",
              "      <td>0</td>\n",
              "    </tr>\n",
              "    <tr>\n",
              "      <th>5</th>\n",
              "      <td>0</td>\n",
              "      <td>0</td>\n",
              "    </tr>\n",
              "    <tr>\n",
              "      <th>6</th>\n",
              "      <td>0</td>\n",
              "      <td>0</td>\n",
              "    </tr>\n",
              "    <tr>\n",
              "      <th>7</th>\n",
              "      <td>0</td>\n",
              "      <td>0</td>\n",
              "    </tr>\n",
              "    <tr>\n",
              "      <th>8</th>\n",
              "      <td>0</td>\n",
              "      <td>0</td>\n",
              "    </tr>\n",
              "    <tr>\n",
              "      <th>9</th>\n",
              "      <td>0</td>\n",
              "      <td>0</td>\n",
              "    </tr>\n",
              "    <tr>\n",
              "      <th>10</th>\n",
              "      <td>0</td>\n",
              "      <td>0</td>\n",
              "    </tr>\n",
              "    <tr>\n",
              "      <th>11</th>\n",
              "      <td>1</td>\n",
              "      <td>0</td>\n",
              "    </tr>\n",
              "    <tr>\n",
              "      <th>12</th>\n",
              "      <td>0</td>\n",
              "      <td>0</td>\n",
              "    </tr>\n",
              "    <tr>\n",
              "      <th>13</th>\n",
              "      <td>1</td>\n",
              "      <td>0</td>\n",
              "    </tr>\n",
              "    <tr>\n",
              "      <th>14</th>\n",
              "      <td>0</td>\n",
              "      <td>0</td>\n",
              "    </tr>\n",
              "    <tr>\n",
              "      <th>15</th>\n",
              "      <td>0</td>\n",
              "      <td>0</td>\n",
              "    </tr>\n",
              "    <tr>\n",
              "      <th>16</th>\n",
              "      <td>0</td>\n",
              "      <td>0</td>\n",
              "    </tr>\n",
              "    <tr>\n",
              "      <th>17</th>\n",
              "      <td>0</td>\n",
              "      <td>0</td>\n",
              "    </tr>\n",
              "    <tr>\n",
              "      <th>18</th>\n",
              "      <td>1</td>\n",
              "      <td>0</td>\n",
              "    </tr>\n",
              "    <tr>\n",
              "      <th>19</th>\n",
              "      <td>0</td>\n",
              "      <td>0</td>\n",
              "    </tr>\n",
              "  </tbody>\n",
              "</table>\n",
              "</div>\n",
              "      <button class=\"colab-df-convert\" onclick=\"convertToInteractive('df-0b135835-0606-4af9-9375-4a7bd4da9a74')\"\n",
              "              title=\"Convert this dataframe to an interactive table.\"\n",
              "              style=\"display:none;\">\n",
              "        \n",
              "  <svg xmlns=\"http://www.w3.org/2000/svg\" height=\"24px\"viewBox=\"0 0 24 24\"\n",
              "       width=\"24px\">\n",
              "    <path d=\"M0 0h24v24H0V0z\" fill=\"none\"/>\n",
              "    <path d=\"M18.56 5.44l.94 2.06.94-2.06 2.06-.94-2.06-.94-.94-2.06-.94 2.06-2.06.94zm-11 1L8.5 8.5l.94-2.06 2.06-.94-2.06-.94L8.5 2.5l-.94 2.06-2.06.94zm10 10l.94 2.06.94-2.06 2.06-.94-2.06-.94-.94-2.06-.94 2.06-2.06.94z\"/><path d=\"M17.41 7.96l-1.37-1.37c-.4-.4-.92-.59-1.43-.59-.52 0-1.04.2-1.43.59L10.3 9.45l-7.72 7.72c-.78.78-.78 2.05 0 2.83L4 21.41c.39.39.9.59 1.41.59.51 0 1.02-.2 1.41-.59l7.78-7.78 2.81-2.81c.8-.78.8-2.07 0-2.86zM5.41 20L4 18.59l7.72-7.72 1.47 1.35L5.41 20z\"/>\n",
              "  </svg>\n",
              "      </button>\n",
              "      \n",
              "  <style>\n",
              "    .colab-df-container {\n",
              "      display:flex;\n",
              "      flex-wrap:wrap;\n",
              "      gap: 12px;\n",
              "    }\n",
              "\n",
              "    .colab-df-convert {\n",
              "      background-color: #E8F0FE;\n",
              "      border: none;\n",
              "      border-radius: 50%;\n",
              "      cursor: pointer;\n",
              "      display: none;\n",
              "      fill: #1967D2;\n",
              "      height: 32px;\n",
              "      padding: 0 0 0 0;\n",
              "      width: 32px;\n",
              "    }\n",
              "\n",
              "    .colab-df-convert:hover {\n",
              "      background-color: #E2EBFA;\n",
              "      box-shadow: 0px 1px 2px rgba(60, 64, 67, 0.3), 0px 1px 3px 1px rgba(60, 64, 67, 0.15);\n",
              "      fill: #174EA6;\n",
              "    }\n",
              "\n",
              "    [theme=dark] .colab-df-convert {\n",
              "      background-color: #3B4455;\n",
              "      fill: #D2E3FC;\n",
              "    }\n",
              "\n",
              "    [theme=dark] .colab-df-convert:hover {\n",
              "      background-color: #434B5C;\n",
              "      box-shadow: 0px 1px 3px 1px rgba(0, 0, 0, 0.15);\n",
              "      filter: drop-shadow(0px 1px 2px rgba(0, 0, 0, 0.3));\n",
              "      fill: #FFFFFF;\n",
              "    }\n",
              "  </style>\n",
              "\n",
              "      <script>\n",
              "        const buttonEl =\n",
              "          document.querySelector('#df-0b135835-0606-4af9-9375-4a7bd4da9a74 button.colab-df-convert');\n",
              "        buttonEl.style.display =\n",
              "          google.colab.kernel.accessAllowed ? 'block' : 'none';\n",
              "\n",
              "        async function convertToInteractive(key) {\n",
              "          const element = document.querySelector('#df-0b135835-0606-4af9-9375-4a7bd4da9a74');\n",
              "          const dataTable =\n",
              "            await google.colab.kernel.invokeFunction('convertToInteractive',\n",
              "                                                     [key], {});\n",
              "          if (!dataTable) return;\n",
              "\n",
              "          const docLinkHtml = 'Like what you see? Visit the ' +\n",
              "            '<a target=\"_blank\" href=https://colab.research.google.com/notebooks/data_table.ipynb>data table notebook</a>'\n",
              "            + ' to learn more about interactive tables.';\n",
              "          element.innerHTML = '';\n",
              "          dataTable['output_type'] = 'display_data';\n",
              "          await google.colab.output.renderOutput(dataTable, element);\n",
              "          const docLink = document.createElement('div');\n",
              "          docLink.innerHTML = docLinkHtml;\n",
              "          element.appendChild(docLink);\n",
              "        }\n",
              "      </script>\n",
              "    </div>\n",
              "  </div>\n",
              "  "
            ]
          },
          "metadata": {},
          "execution_count": 34
        }
      ]
    }
  ]
}